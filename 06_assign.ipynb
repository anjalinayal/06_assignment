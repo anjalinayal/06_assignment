{
 "cells": [
  {
   "cell_type": "code",
   "execution_count": null,
   "id": "0372df21-2c16-4d01-909a-7419ceb24c52",
   "metadata": {},
   "outputs": [],
   "source": [
    "# question 1"
   ]
  },
  {
   "cell_type": "code",
   "execution_count": 41,
   "id": "971f230b-79cd-44bc-a91f-f36a14f1173c",
   "metadata": {},
   "outputs": [],
   "source": [
    "def prod():\n",
    "    list1 = [1,2,3,4, [44,55,66, True], False, (34,56,78,89,34), {1,2,3,3,2,1}, {1:34, \"key2\": [55, 67, 78, 89], 4: (45,22, 61, 34)}, [56, 'data science'], 'Machine Learning']\n",
    "    product=1\n",
    "    l=[]\n",
    "    for i in list1:\n",
    "        if type(i)==int or type(i)==float:\n",
    "            l.append(i)\n",
    "        if type(i)==list or type(i)==tuple:\n",
    "            for j in i:\n",
    "                if type(j)==int or type(j)==float:\n",
    "                    l.append(j)\n",
    "        if type(i)==set:\n",
    "            for s in i:\n",
    "                if type(s)==int or type(s)==float:\n",
    "                    l.append(s)\n",
    "        if type(i)==dict:\n",
    "            for k in i.keys():\n",
    "                if type(k)==int or type(k)==float:\n",
    "                    l.append(k)\n",
    "            for v in i.values():\n",
    "                if type(v)==int or type(v)==float:\n",
    "                    l.append(v)\n",
    "                if type(v)==list or type(v)==tuple:\n",
    "                    for inside_dict in v:\n",
    "                        if type(inside_dict)==int or type(inside_dict)==float:\n",
    "                            l.append(inside_dict)\n",
    "    # return(l)\n",
    "    for item in l:\n",
    "        product=product*item\n",
    "    return(product)"
   ]
  },
  {
   "cell_type": "code",
   "execution_count": 42,
   "id": "00a31846-71cc-46c7-bbe8-6889cc44d28d",
   "metadata": {},
   "outputs": [
    {
     "data": {
      "text/plain": [
       "4134711838987085478833841242112000"
      ]
     },
     "execution_count": 42,
     "metadata": {},
     "output_type": "execute_result"
    }
   ],
   "source": [
    "prod()"
   ]
  },
  {
   "cell_type": "code",
   "execution_count": 43,
   "id": "18c7301b-7283-4ad1-9615-2f85d7d912df",
   "metadata": {},
   "outputs": [],
   "source": [
    "#question 2\n"
   ]
  },
  {
   "cell_type": "code",
   "execution_count": 33,
   "id": "4514133d-9b46-4c29-af02-31437355b0d8",
   "metadata": {},
   "outputs": [],
   "source": [
    "import string\n",
    "def encode(msg):\n",
    "    msg=msg.lower()\n",
    "    a=[]\n",
    "    code=\"\"\n",
    "    for i in string.ascii_lowercase:\n",
    "        a.append(i)\n",
    "    y=a[::-1]\n",
    "    for j in msg:\n",
    "        if j.isspace():\n",
    "            code=code+\"$\"\n",
    "        elif j in string.punctuation:\n",
    "            code=code+j\n",
    "        else:\n",
    "            n=a.index(j)\n",
    "            code=code+y[n]\n",
    "                    \n",
    "    return code\n",
    "        "
   ]
  },
  {
   "cell_type": "code",
   "execution_count": 34,
   "id": "0704e5ad-3ef6-4d85-acc6-890a8fc371c8",
   "metadata": {},
   "outputs": [
    {
     "data": {
      "text/plain": [
       "'r$dzmg$gl$yvxlnv$z$wzgz$hxrvmgrhg.'"
      ]
     },
     "execution_count": 34,
     "metadata": {},
     "output_type": "execute_result"
    }
   ],
   "source": [
    "encode(\"I want to become a Data Scientist.\")"
   ]
  },
  {
   "cell_type": "code",
   "execution_count": null,
   "id": "e771022f-6508-4868-a503-d9bcd4f8cb21",
   "metadata": {},
   "outputs": [],
   "source": []
  },
  {
   "cell_type": "code",
   "execution_count": null,
   "id": "ff6a7abb-b813-4a09-bea1-85df35b69a65",
   "metadata": {},
   "outputs": [],
   "source": []
  }
 ],
 "metadata": {
  "kernelspec": {
   "display_name": "Python 3 (ipykernel)",
   "language": "python",
   "name": "python3"
  },
  "language_info": {
   "codemirror_mode": {
    "name": "ipython",
    "version": 3
   },
   "file_extension": ".py",
   "mimetype": "text/x-python",
   "name": "python",
   "nbconvert_exporter": "python",
   "pygments_lexer": "ipython3",
   "version": "3.10.6"
  }
 },
 "nbformat": 4,
 "nbformat_minor": 5
}
